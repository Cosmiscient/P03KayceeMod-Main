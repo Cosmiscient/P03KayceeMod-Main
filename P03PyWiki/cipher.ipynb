{
 "cells": [
  {
   "cell_type": "code",
   "execution_count": 6,
   "metadata": {},
   "outputs": [],
   "source": [
    "import functools"
   ]
  },
  {
   "cell_type": "markdown",
   "metadata": {},
   "source": [
    "## Affine Cipher\n",
    "\n",
    "**Parameters:** *a* and *b*\n",
    "\n",
    "**Key**:\n",
    "\n",
    "|a|b|c|d|e|f|g|h|i|j|k|l|m|n|o|p|q|r|s|t|u|v|w|x|y|z|\n",
    "|-|-|-|-|-|-|-|-|-|-|-|-|-|-|-|-|-|-|-|-|-|-|-|-|-|-|\n",
    "|0|1|2|3|4|5|6|7|8|9|10|11|12|13|14|15|16|17|18|19|20|21|22|23|24|25|\n",
    "\n",
    "**Encryption:** (*a*x + *b*) mod 26\n",
    "\n",
    "**Decryption:** (*ai* * (y - *b*)) mod 26\n",
    "\n",
    "Where *ai* is the modular multiplicative inverse of *a* (more on this later)\n"
   ]
  },
  {
   "cell_type": "markdown",
   "metadata": {},
   "source": [
    "**Example Encryption:**\n",
    "\n",
    "- *a* = 3, *b* = 12\n",
    "- The letter 'm' = 12\n",
    "- `3*12 + 12 = 48`\n",
    "- `48 mod 26 = 22`\n",
    "- Thus, 'm' encodes to 'w'"
   ]
  },
  {
   "cell_type": "markdown",
   "metadata": {},
   "source": [
    "**Modular Multiplicative Inverse:** This is a number *ai* such that:\n",
    "\n",
    "`a * ai = 1 mod 26`\n",
    "\n",
    "`1 mod 26` means *any number that is 1 more than a multiple of 26*\n",
    "\n",
    "The simplest way to find *ai* is to calculate a bunch of numbers thare are 1 more than a multiple of 26:\n",
    "\n",
    "|27|53|79|105|131|157|183|209|235|261|287|\n",
    "|--|--|--|---|---|---|---|---|---|---|---|\n",
    "\n",
    "Then find one of these that is a multiple of *a*.\n",
    "\n",
    "In the example above, *a* is 3. Looking at the list of numbers, the very first one `27` is a multiple of 3. Since `a * ai = 1 mod 26`, then `3 * ai = 27`, thus `ai = 9`"
   ]
  },
  {
   "cell_type": "markdown",
   "metadata": {},
   "source": [
    "**Example Decryption:**\n",
    "\n",
    "- *a* = 3, *b* = 12\n",
    "- *ai* = 9\n",
    "- The letter 'w' = 22\n",
    "- `ai(y - b) = 9(22 - 12) = 9 * 10 = 90`\n",
    "- `90 mod 26 = 12`\n",
    "- Thus `w` decodes to `m`"
   ]
  },
  {
   "cell_type": "code",
   "execution_count": 20,
   "metadata": {},
   "outputs": [],
   "source": [
    "@functools.cache\n",
    "def atoi(a: str) -> int:\n",
    "    return \"abcdefghijklmnopqrstuvwxyz\".find(a.lower())\n",
    "\n",
    "@functools.cache\n",
    "def itoa(i: int) -> str:\n",
    "    return \"abcdefghijklmnopqrstuvwxyz\"[i]\n",
    "\n",
    "@functools.cache\n",
    "def get_mmi(a: int, m: int = 26) -> int:\n",
    "    for i in range(1, 1000):\n",
    "        if (a * i) % m == 1:\n",
    "            return i\n",
    "        \n",
    "@functools.cache\n",
    "def encrypt(message: str, a: int, b: int) -> str:\n",
    "    if len(message) > 1:\n",
    "        return \"\".join(encrypt(c, a, b) for c in message.lower())\n",
    "    \n",
    "    if message == \" \":\n",
    "        return \" \"\n",
    "\n",
    "    i = atoi(message)\n",
    "    ie = (a * i + b) % 26\n",
    "    return itoa(ie)\n",
    "\n",
    "@functools.cache\n",
    "def decrypt(message: str, a: int, b: int) -> str:\n",
    "    if len(message) > 1:\n",
    "        return \"\".join(decrypt(c, a, b) for c in message.lower())\n",
    "    \n",
    "    if message == \" \":\n",
    "        return \" \"\n",
    "    \n",
    "    ai = get_mmi(a, 26)\n",
    "    i = atoi(message)\n",
    "    ie = (ai * (i - b)) % 26\n",
    "    return itoa(ie)\n"
   ]
  },
  {
   "cell_type": "code",
   "execution_count": 17,
   "metadata": {},
   "outputs": [
    {
     "data": {
      "text/plain": [
       "'gyj rldzn uwhvc oha ilxmje hqjw gyj spkf eht'"
      ]
     },
     "execution_count": 17,
     "metadata": {},
     "output_type": "execute_result"
    }
   ],
   "source": [
    "encrypt(\"the quick brown fox jumped over the lazy dog\", 5, 15)"
   ]
  },
  {
   "cell_type": "code",
   "execution_count": 21,
   "metadata": {},
   "outputs": [
    {
     "data": {
      "text/plain": [
       "'the quick brown fox jumped over the lazy dog'"
      ]
     },
     "execution_count": 21,
     "metadata": {},
     "output_type": "execute_result"
    }
   ],
   "source": [
    "decrypt(\"gyj rldzn uwhvc oha ilxmje hqjw gyj spkf eht\", 5, 15)"
   ]
  },
  {
   "cell_type": "code",
   "execution_count": 24,
   "metadata": {},
   "outputs": [
    {
     "name": "stdout",
     "output_type": "stream",
     "text": [
      "The MMI of 3 is 9\n",
      "The MMI of 5 is 21\n",
      "The MMI of 7 is 15\n",
      "The MMI of 9 is 3\n",
      "The MMI of 11 is 19\n",
      "The MMI of 15 is 7\n",
      "The MMI of 17 is 23\n",
      "The MMI of 19 is 11\n",
      "The MMI of 21 is 5\n",
      "The MMI of 23 is 17\n",
      "The MMI of 25 is 25\n"
     ]
    }
   ],
   "source": [
    "for i in range(2,26):\n",
    "    ai = get_mmi(i)\n",
    "    if ai:\n",
    "        print(f\"The MMI of {i} is {get_mmi(i)}\")"
   ]
  }
 ],
 "metadata": {
  "kernelspec": {
   "display_name": ".venv",
   "language": "python",
   "name": "python3"
  },
  "language_info": {
   "codemirror_mode": {
    "name": "ipython",
    "version": 3
   },
   "file_extension": ".py",
   "mimetype": "text/x-python",
   "name": "python",
   "nbconvert_exporter": "python",
   "pygments_lexer": "ipython3",
   "version": "3.12.6"
  }
 },
 "nbformat": 4,
 "nbformat_minor": 2
}
